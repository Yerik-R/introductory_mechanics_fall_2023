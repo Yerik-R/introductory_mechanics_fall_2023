{
  "nbformat": 4,
  "nbformat_minor": 0,
  "metadata": {
    "colab": {
      "provenance": [],
      "authorship_tag": "ABX9TyNeUqL7M5SBXPOTqGaNg486",
      "include_colab_link": true
    },
    "kernelspec": {
      "name": "python3",
      "display_name": "Python 3"
    },
    "language_info": {
      "name": "python"
    }
  },
  "cells": [
    {
      "cell_type": "markdown",
      "metadata": {
        "id": "view-in-github",
        "colab_type": "text"
      },
      "source": [
        "<a href=\"https://colab.research.google.com/github/jamunozlab/introductory_mechanics_fall_2023/blob/main/exercises/Phys_2320_exercise_01.ipynb\" target=\"_parent\"><img src=\"https://colab.research.google.com/assets/colab-badge.svg\" alt=\"Open In Colab\"/></a>"
      ]
    },
    {
      "cell_type": "markdown",
      "source": [
        "# Instructions\n",
        "\n",
        "This is the first workshop, the objective is to make sure that the technology is working for you. 1) Copy the code below and modify it so that it prints your name and that of your teammates. 2) Then use the Google form to share the link of this notebook. Only one person should fill out and submit the form. The link is [here](https://forms.gle/192wMh8XhYYJYtG98)."
      ],
      "metadata": {
        "id": "R6KTt9QMhrxO"
      }
    },
    {
      "cell_type": "code",
      "execution_count": null,
      "metadata": {
        "id": "ycqOZ-3UtesW"
      },
      "outputs": [],
      "source": [
        "first_name = \"J.\"\n",
        "middle_name = \"Albert\"\n",
        "last_name = \"Munoz\""
      ]
    },
    {
      "cell_type": "code",
      "source": [
        "print(first_name + \" \" + middle_name + \" \" + last_name + \" loves physics\")"
      ],
      "metadata": {
        "colab": {
          "base_uri": "https://localhost:8080/"
        },
        "id": "D8RYeJG2u8CA",
        "outputId": "54e93834-9243-41d9-e613-4b2bf524babf"
      },
      "execution_count": null,
      "outputs": [
        {
          "output_type": "stream",
          "name": "stdout",
          "text": [
            "J. Albert Munoz loves physics\n"
          ]
        }
      ]
    },
    {
      "cell_type": "code",
      "source": [],
      "metadata": {
        "id": "0kCrMkjxvEVe"
      },
      "execution_count": null,
      "outputs": []
    }
  ]
}