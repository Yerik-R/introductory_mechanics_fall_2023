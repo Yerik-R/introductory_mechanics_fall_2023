{
  "nbformat": 4,
  "nbformat_minor": 0,
  "metadata": {
    "colab": {
      "provenance": [],
      "include_colab_link": true
    },
    "kernelspec": {
      "name": "python3",
      "display_name": "Python 3"
    },
    "language_info": {
      "name": "python"
    }
  },
  "cells": [
    {
      "cell_type": "markdown",
      "metadata": {
        "id": "view-in-github",
        "colab_type": "text"
      },
      "source": [
        "<a href=\"https://colab.research.google.com/github/jamunozlab/introductory_mechanics_fall_2023/blob/main/exercises/Phys_2320_exercise_02.ipynb\" target=\"_parent\"><img src=\"https://colab.research.google.com/assets/colab-badge.svg\" alt=\"Open In Colab\"/></a>"
      ]
    },
    {
      "cell_type": "markdown",
      "source": [
        "# Introduction\n",
        "\n",
        "## Some definitions\n",
        "\n",
        "So far in the course we have learned about several scalar quantities, including the ones we will focus on for this exercise: position $x$ and speed $v.$ We also learned about their vector analogs, displacement $\\Delta \\vec{x}$ and velocity $\\vec{v}$, which we denote by drawing an arrow above their symbol.\n",
        "\n",
        "Notice that since the position is a point, so zero-dimensional, it cannot possibly have a direction. You need two points to define a direction. Displacement implies movement, and movement takes time, so for everyday situations, we measure the initial and final positions to define the displacement:\n",
        "\n",
        ".\n",
        "\n",
        " $\\Delta\\vec{x} = x_f - x_0$ ,\n",
        "\n",
        " .\n",
        "\n",
        " where $x_0$ is the initial position and $x_f$ is the final position. For purposes of this course (although this is almost universally the case), the Greek letter uppercase Delta, $\\Delta$, means final minus initial of whatever follows the letter. For example,\n",
        "\n",
        " .\n",
        "\n",
        " $\\Delta t = t_f - t_0$ ,\n",
        "\n",
        " .\n",
        "\n",
        " is the change in time. The $\\Delta$, more than an algebraic quantity, is a set of instructions that tells you what do to, algebraically, with the variable in front of it. It is a simple, but proper algorithm.\n",
        "\n",
        " Notice that change in time is not a vector, at least not in the Newtonian mechanics we will learn in this course. This is useful because you can't really divide a vector by another vector, but you can divide a vector by a scalar. In this case, the division between scalars is the same you learned in grade school, whereas the direction remains the same as the original, or opposite of the original if the sign changes from positive to negative (or negative to positive) as a result of the scalar division.\n",
        "\n",
        " Finally, the velocity is the ratio of two changes: the change in position divided by the change in time.\n",
        "\n",
        " .\n",
        "\n",
        " $\\vec{v} = \\frac{\\Delta \\vec{x}}{\\Delta t} = \\frac{x_f - x_0}{t_f - t_0} $.\n",
        "\n"
      ],
      "metadata": {
        "id": "XwZcqiJzg2a5"
      }
    },
    {
      "cell_type": "markdown",
      "source": [
        "## On science and computers (or why you are doing this)\n",
        "\n",
        "We talked briefly during lecture about how the scientific method is based on measurement and experimentation. The fundamental unit of science is the hypothesis, which is a statement with a yes/no answer that you can test by measuring a phenomenon.\n",
        "\n",
        "While humans are often afraid of being wrong, and there are certainly situations in which you really want to minimize the probability of being wrong (say when you are sending people to space), there is really no right or wrong when testing hypotheses. If your hypothesis is that you are a better soccer player than Messi, and you decide to test this by measuring the number of goals that you score in 1 season, you will learn exactly the same as if your hypothesis had been that you are a worse soccer player than Messi. Humans have feelings, but the universe does not care what you think about it, and will do its thing whether you like it or not.\n",
        "\n",
        "Learning that you are wrong is actually incredibly powerful. If you say that \"everything that goes up continues going up,\" a single experiment, proving your hypothesis wrong, will let you know that that is not the case. On the other hand, if you say \"everything that goes up comes back down,\" every experiment will prove you right, but you can't never know if the next one will prove you wrong.\n",
        "\n",
        "I decided to use coding exercises to teach you about the models that describe the universe because computers will not get tired of telling you that you are wrong. You are in a space where you can experiment and learn."
      ],
      "metadata": {
        "id": "yI5zjWF-sZAX"
      }
    },
    {
      "cell_type": "markdown",
      "source": [
        "# Instructions\n",
        "\n",
        "1.   Evaluate the cells below, in some cases you might need to complete the code.\n",
        "\n",
        "2. Complete the exercises.\n",
        "\n",
        "3. Answer the questions in the space provided.\n",
        "\n",
        "NOTE: You do not need to know anything about pandas right now, we are only using it in this Notebook to make plotting your numbers very easy. For now, you can think about it as a very powerful MS Excel.\n"
      ],
      "metadata": {
        "id": "EO0lTg2PS9w0"
      }
    },
    {
      "cell_type": "code",
      "execution_count": 1,
      "metadata": {
        "id": "lvEtJ1wIMwUz"
      },
      "outputs": [],
      "source": [
        "# pandas is an open source Python package that is most widely used for data science/data analysis and machine learning tasks.\n",
        "# For our purposes here will be using it's pre-defiend functions to create graphs of our data.\n",
        "# You do not need to know anything else about pandas at the moment.\n",
        "# But click \"shift + enter\" to evaluate this cell so that you can use pandas in this Notebook\n",
        "\n",
        "import pandas as pd\n",
        "\n",
        "# // This code cell imports the library of functions included in the \"pandas\" package and allows for thier use in this program.\n",
        "# We use the \"nickname\" 'pd' to more easily reference pandas later on. //\n"
      ]
    },
    {
      "cell_type": "code",
      "source": [
        "# We will create a position vs time plot using the following numbers\n",
        "# Evalute this cell!\n",
        "\n",
        "time =     [0 , 1 ,  2,  3,  4, 5  ] # Let's say these are seconds\n",
        "position = [0 , -2, -4, -6, -8, -10] # Let's say these are meters\n",
        "\n",
        "# // This code cell defines TWO (2) user-defined VARIABLES named \"time\" and \"position\",\n",
        "# Each of these two (2) variables contain an ARRAY of six (6) ELEMENTS that hold the VALUES defined above.//"
      ],
      "metadata": {
        "id": "dLnHkImpeDKa"
      },
      "execution_count": 2,
      "outputs": []
    },
    {
      "cell_type": "code",
      "source": [
        "# Then we instruct the computer to create the plot using the following commands:\n",
        "\n",
        "pretty_plot = pd.Series(position, index=time)                         # The keyword \"pd.series()\"\" requires the names of the array variables that we wish to graph.\n",
        "pretty_plot.plot(xlabel='time (seconds)', ylabel='position (meters)') # The keyword \".plot()\" let's us label both axes of our graph.\n",
        "\n",
        "# // This code cell uses pandas' pre-defined funtions to output a graphical representation of the data contained in our variables \"time\" and \"position\". //"
      ],
      "metadata": {
        "colab": {
          "base_uri": "https://localhost:8080/",
          "height": 467
        },
        "id": "ku98s_60eDEq",
        "outputId": "31f1245d-ba12-4b08-b092-9dd58c4fa3b2"
      },
      "execution_count": 3,
      "outputs": [
        {
          "output_type": "execute_result",
          "data": {
            "text/plain": [
              "<Axes: xlabel='time (seconds)', ylabel='position (meters)'>"
            ]
          },
          "metadata": {},
          "execution_count": 3
        },
        {
          "output_type": "display_data",
          "data": {
            "text/plain": [
              "<Figure size 640x480 with 1 Axes>"
            ],
            "image/png": "[encoded data removed]"
          },
          "metadata": {}
        }
      ]
    },
    {
      "cell_type": "code",
      "source": [
        "# Using the definition of velocity above, the average velocity between 0 and 5 seconds is:\n",
        "# Notice the signs\n",
        "\n",
        "velocity = ( (-10) - (0) ) / ( (5) - (0) )\n",
        "print('Average velocity is:', velocity, 'meters/second')\n",
        "\n",
        " # // In this code cell we create a User-defined variable that is then defined as an equation\n",
        " # using values manually copied from the values stored inside our array variables as defined above.\n",
        " # HINT: average velocity can be represented by the equation  [(pf - pi) / (tf - ti)] //"
      ],
      "metadata": {
        "colab": {
          "base_uri": "https://localhost:8080/"
        },
        "id": "hCa7cr8Yeyoh",
        "outputId": "db7c7533-edb6-4e7f-be6c-c969ab267a4d"
      },
      "execution_count": 4,
      "outputs": [
        {
          "output_type": "stream",
          "name": "stdout",
          "text": [
            "Average velocity is: -2.0 meters/second\n"
          ]
        }
      ]
    },
    {
      "cell_type": "code",
      "source": [
        "# If you are lazy like me, grab the number in the appropriate INDEX POSITIONS rather than writing it down manually.\n",
        "\n",
        "velocity = ( position[5] - position[0] ) / ( time[5] - time[0] )\n",
        "print('Average velocity is:', velocity, 'meters/second')\n",
        "\n",
        "# // Here, the variable \"velocity\" is calculated in the same way as it was in the previous cell.\n",
        "# However, instead of typing the values from the array variables \"time\" and \"position\" manually, like a human would\n",
        "# This cell directly pulls specific values from our array variables by referencing their \"INDEX positions.\" Smart! //"
      ],
      "metadata": {
        "colab": {
          "base_uri": "https://localhost:8080/"
        },
        "id": "Da5SpXpJgYgb",
        "outputId": "d8043a60-3c60-4790-f5e1-c9e8cff95afa"
      },
      "execution_count": 5,
      "outputs": [
        {
          "output_type": "stream",
          "name": "stdout",
          "text": [
            "Average velocity is: -2.0 meters/second\n"
          ]
        }
      ]
    },
    {
      "cell_type": "markdown",
      "source": [
        "# Exercise 2.1\n",
        "\n",
        "First, make sure you have evaluated (shift + enter) the cells above.\n",
        "In particular, you need to evaluate the pandas one to make sure that you call this package, which we are using to create the plot. In the graph above, the slope is negative, here we want the slope to be positive.\n",
        "\n",
        "COMPLETE THE MISSING PORTION OF THE CODE CELL BELOW. Let the first element in the variable named \"position\" be negative six (-6), then come up with a series of five (5) more numbers that will result in the generation of a \"position vs time graph\"  that appears as a straight line going up (positive slope).\n",
        "\n",
        " Feel free to modify the cells below as many times as you want, you can refresh the results by clicking shift + enter each time. Answer the following in the text cell below:\n",
        "\n",
        "2.1.1. What is the value of the position at time = 0 seconds?\n",
        "2.1.2. What is the difference between contiguous positions?\n",
        "(Contiguous means \"next to or together within a series\")\n",
        "\n",
        "2.1.3. What is the average velocity?\n",
        "\n"
      ],
      "metadata": {
        "id": "TonXVME_fibI"
      }
    },
    {
      "cell_type": "code",
      "source": [
        "time =     [0 , 1 ,  2,  3,  4, 5  ] # Don't change this one\n",
        "position = [-6 , , , , , ] # CHANGE THIS ONE"
      ],
      "metadata": {
        "id": "CGiynP3dfI5U"
      },
      "execution_count": null,
      "outputs": []
    },
    {
      "cell_type": "code",
      "source": [
        "# Evaluate this cell only AFTER MAKING CHANGES to the \"position values\" above, to see how the new plot looks.\n",
        "# // Remember the goal is to produce a graph that displays a positive slope.//\n",
        "\n",
        "pretty_plot = pd.Series(position, index=time)\n",
        "pretty_plot.plot(xlabel='time (seconds)', ylabel='position (meters)')"
      ],
      "metadata": {
        "colab": {
          "base_uri": "https://localhost:8080/",
          "height": 296
        },
        "id": "V0NABxzsiGFI",
        "outputId": "a8919f70-d9a9-41d5-fbf0-b997ad596c6b"
      },
      "execution_count": null,
      "outputs": [
        {
          "output_type": "execute_result",
          "data": {
            "text/plain": [
              "<matplotlib.axes._subplots.AxesSubplot at 0x7f75e952ecd0>"
            ]
          },
          "metadata": {},
          "execution_count": 10
        },
        {
          "output_type": "display_data",
          "data": {
            "text/plain": [
              "<Figure size 432x288 with 1 Axes>"
            ],
            "image/png": "[encoded data removed]"
          },
          "metadata": {
            "needs_background": "light"
          }
        }
      ]
    },
    {
      "cell_type": "code",
      "source": [
        "# Evaluate this cell (shift + enter) for the computer to tell you what the\n",
        "# average velocity between 0 seconds (the zeroth element in the array above)\n",
        "# and 5 seconds (the sixth element in the array above)\n",
        "\n",
        "velocity = ( position[5] - position[0] ) / ( time[5] - time[0] )\n",
        "print('Average velocity is:', velocity, 'meters/second')"
      ],
      "metadata": {
        "colab": {
          "base_uri": "https://localhost:8080/"
        },
        "id": "d8LEHmsMiFd6",
        "outputId": "1f87943f-6ac7-4fcf-d4d5-ffd99d8959f3"
      },
      "execution_count": null,
      "outputs": [
        {
          "output_type": "stream",
          "name": "stdout",
          "text": [
            "Average velocity is: -2.0 meters/second\n"
          ]
        }
      ]
    },
    {
      "cell_type": "code",
      "source": [
        "## 2.1.1 What is the value of the position at time = 0 seconds?\n",
        "##\n",
        "## Answer:"
      ],
      "metadata": {
        "id": "2rtOySYj4cU5"
      },
      "execution_count": null,
      "outputs": []
    },
    {
      "cell_type": "code",
      "source": [
        "## 2.1.2 What is the difference between contiguous positions? (Contiguous means \"next to or together within a series\")\n",
        "##\n",
        "## Answer:"
      ],
      "metadata": {
        "id": "vV6A2N3G4ixx"
      },
      "execution_count": null,
      "outputs": []
    },
    {
      "cell_type": "code",
      "source": [
        "## 2.1.3 What is the average velocity?\n",
        "##\n",
        "## Answer:"
      ],
      "metadata": {
        "id": "rSUbgVJ34nyF"
      },
      "execution_count": null,
      "outputs": []
    },
    {
      "cell_type": "markdown",
      "source": [
        "# Exercise 2.2\n",
        "\n",
        "For this exercise you will use the COPY/PASTE function to copy the relevant code cells above, and paste them below this text block.\n",
        "\n",
        "Similar to \"Exercise #1\" your goal will be to produce a graph that meets parameters specified below.  \n",
        "\n",
        "(Right-Click a code cell to access the copy/paste options; or if you prefer to copy only specific lines of code, first highlight your chosen lines with the mouse and use the \"ctrl + C\" and \"ctrl + V\" keyboard shortcuts to copy paste.)\n",
        "\n",
        "\n",
        "As in the previous exercise; Without changing any of the numbers the \"time\" list, make the first number in the \"position\" list negative six (-6), and come up with a list of five (5) additional numbers such that the position vs time plot is a CONCAVE UP curve (exponential increase).\n",
        "\n",
        "Then, using the dataset and graph that you've created, Answer the following:\n",
        "\n",
        "2.2.1. What is the difference between contiguous positions?\n",
        "2.2.2. How is this different from the previous case?      \n",
        "\n",
        "\n",
        "\n"
      ],
      "metadata": {
        "id": "FUnHB2yBjwz0"
      }
    },
    {
      "cell_type": "code",
      "source": [
        "# Paste code here"
      ],
      "metadata": {
        "id": "PQLql5e55dyH"
      },
      "execution_count": null,
      "outputs": []
    },
    {
      "cell_type": "code",
      "source": [
        "## 2.2.1 What is the difference between contiguous positions?\n",
        "##\n",
        "## Answer:"
      ],
      "metadata": {
        "id": "Jb3Va7Pd5hgn"
      },
      "execution_count": null,
      "outputs": []
    },
    {
      "cell_type": "code",
      "source": [
        "## 2.2.2 How is this different from the previous case?\n",
        "##\n",
        "## Answer:"
      ],
      "metadata": {
        "id": "9vZn2srf5oDp"
      },
      "execution_count": null,
      "outputs": []
    }
  ]
}