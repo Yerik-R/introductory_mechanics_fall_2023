{
  "nbformat": 4,
  "nbformat_minor": 0,
  "metadata": {
    "colab": {
      "provenance": [],
      "authorship_tag": "ABX9TyMo4PwZlqyLLiawiX20RCav",
      "include_colab_link": true
    },
    "kernelspec": {
      "name": "python3",
      "display_name": "Python 3"
    },
    "language_info": {
      "name": "python"
    }
  },
  "cells": [
    {
      "cell_type": "markdown",
      "metadata": {
        "id": "view-in-github",
        "colab_type": "text"
      },
      "source": [
        "<a href=\"https://colab.research.google.com/github/jamunozlab/introductory_mechanics_fall_2023/blob/main/projects/Phys_2320_project_03.ipynb\" target=\"_parent\"><img src=\"https://colab.research.google.com/assets/colab-badge.svg\" alt=\"Open In Colab\"/></a>"
      ]
    },
    {
      "cell_type": "markdown",
      "source": [
        "# Introduction\n",
        "\n",
        "## Backstory\n",
        "\n",
        "In the past few weeks, Jorginho has been disciplined enough and following the training program the profesionals at your company Physics Physical LLC have designed for him. He is close to attaining the times your company requested of him: photographic evidence is located [here](https://github.com/jamunozlab/introductory_mechanics_fall_2022/blob/main/projects/Ph_2320_P3_data.ipynb) and is summarized below.\n",
        "\n",
        "\n",
        "\n",
        "```\n",
        "# Date         # Starting speed   # Predicted time    # Actual time\n",
        "# 9/10/23        6.1 mph            53:45 min:sec       53:23 min:sec\n",
        "# 9/17/23        6.2 mph            52:59 min:sec       53:01 min:sec\n",
        "# 9/24/23        6.3 mph            52:16 min:sec       52:33 min:sec\n",
        "# 10/1/23        6.4 mph            51:35 min:sec       52:04 min:sec\n",
        "# 10/8/23        6.5 mph            50:58 min:sec       51:21 min:sec\n",
        "# 10/15/23       6.6 mph            50:23 min:sec\n",
        "# 10/22/23       6.7 mph            49:51 min:sec\n",
        "# 10/29/23       <-- Race day (real deal)\n",
        "```"
      ],
      "metadata": {
        "id": "QRCJfTN2XCyC"
      }
    },
    {
      "cell_type": "markdown",
      "source": [
        "Nevertheless, Jorginho is complaining that even though he followed the running program closely on 9/24, 10/1, and 10/8, his times are not quite the same you had predicted. You suddendly remember that wikipedia article about [reductionism](https://en.wikipedia.org/wiki/Reductionism) that says: ``reductionist thinking and methods form the basis for many of the well-developed topics of modern science, including much of physics, chemistry and molecular biology. Classical mechanics in particular is seen as a reductionist framework.'' Although you are not sure about ontological reductionism (a belief that the whole of reality consists of a minimal number of parts), methodological reductionism (the scientific attempt to provide an explanation in terms of ever-smaller entities) has proved its worth in science and technology. You have seen how GPS data, collected every second, can be used in the same way as the $\\vec{x}(t)$ kinematic equation. In particular, you are suspicious of the assumption that the treadmill increases its velocity infinitely fast. You decide to do a dynamics simulation to improve your predictions."
      ],
      "metadata": {
        "id": "ombOVxze5qb6"
      }
    },
    {
      "cell_type": "markdown",
      "source": [
        "## Goals of the project\n",
        "\n",
        "In this project, you will find the finite value of the acceleration of the tread mill when the user increases the speed."
      ],
      "metadata": {
        "id": "zeYCt5ljigYU"
      }
    },
    {
      "cell_type": "markdown",
      "source": [
        "Evaluate the cells below as necessary"
      ],
      "metadata": {
        "id": "uZmShUZGCo3Z"
      }
    },
    {
      "cell_type": "code",
      "source": [
        "# Some packages to make our lives easy and print pretty plots\n",
        "import numpy as np\n",
        "import pandas as pd\n",
        "pd.options.plotting.backend = \"plotly\""
      ],
      "metadata": {
        "id": "1eR5QNRZcQEG"
      },
      "execution_count": 1,
      "outputs": []
    },
    {
      "cell_type": "code",
      "source": [
        "# This function takes a running routine, which consists of a list of positions\n",
        "# and a list of velocities for the treadmill corresponding to the positions in the list\n",
        "# It also takes a distance and a velocity\n",
        "# It returns 'True' if the velocity is correct for that distance according to the program\n",
        "# It returns 'False' otherwise\n",
        "# In every case, it also returns the velocity that the treadmill should have for that distance\n",
        "\n",
        "def check_correct_speed(distance, velocity, position_list, velocity_list):\n",
        "  for i in range(len(position_list)):\n",
        "    # Find the index corresponding to the current position\n",
        "    if distance >= position_list[i] and distance < position_list[i+1]:\n",
        "      idx = i\n",
        "      break\n",
        "\n",
        "  # So that we know at which speed Jorginho should be running\n",
        "  # And compare to Jorginho's actual speed\n",
        "  correct = False if velocity - velocity_list[idx] < 0 else True\n",
        "\n",
        "  # Return True if Jorginho is running at the correct speed, False otherwhise\n",
        "  return correct, velocity_list[idx]"
      ],
      "metadata": {
        "id": "2kyyyjZ6eZpW"
      },
      "execution_count": 2,
      "outputs": []
    },
    {
      "cell_type": "code",
      "source": [
        "#####################\n",
        "## Running Routine ##\n",
        "#####################\n",
        "\n",
        "# This is a running program like the one you built in Project 1\n",
        "position_list = [0, 1/3, 2/3, 3/3, 4/3, 5/3, 6/3, 7/3, 8/3, 9/3, 10/3, 11/3, 12/3, 13/3, 14/3, 15/3, 16/3, 17/3, 18/3, 19/3]\n",
        "velocity_list = [   6.5, 6.6, 6.7, 6.8, 6.9, 7.0, 7.1, 7.2, 7.3,  7.4,  7.5, 7.6,   7.7,  7.8,  7.9,  8.0,  8.0,  8.0,  8.0]\n",
        "\n",
        "# For convenience, we are moving to SI (1 mile is 1609 meters and 1 hour is 3600 seconds)\n",
        "position_list_m = [position * (1609.0) for position in position_list] # Distance in meters\n",
        "velocity_list_m = [velocity * (1609.0/3600.0) for velocity in velocity_list] # Velocity in meters/second"
      ],
      "metadata": {
        "id": "JG2YD4F3l0V5"
      },
      "execution_count": 3,
      "outputs": []
    },
    {
      "cell_type": "code",
      "source": [
        "#########################\n",
        "## Dynamics Simulation ##\n",
        "#########################\n",
        "\n",
        "# For this situation, the acceleration can only be positive since Jorginho is not running backwards\n",
        "# The acceleration should be less than 1 m/s^2, which is reasonable for a long-distance running\n",
        "# You can change it below, the acceleration is only 'on' when the velocity should be increased\n",
        "acceleration_when_on = 0.0166 # m/s^2\n",
        "\n",
        "# Make sure acceleration is within range\n",
        "assert acceleration_when_on > 0, \"Problem with acceleration: When Jorginho accelerates, the acceleration is positive\"\n",
        "assert acceleration_when_on <= 1, \"Problem with acceleration: The maximum acceleratino of Jorginho is 1 m/s^2\"\n",
        "\n",
        "# delta_time tells the code how often to check/update variables\n",
        "# a small delta_time gives more accurate results but will take longer to compute\n",
        "# initial position, velocity, and time initialized\n",
        "delta_time = 0.10\n",
        "distance = 0.0\n",
        "velocity = 0.0\n",
        "time = 0\n",
        "\n",
        "# This is where we are going to save our dynamics data, simple lists\n",
        "actual_time_list = []\n",
        "actual_distance_list = []\n",
        "actual_velocity_list = []\n",
        "actual_acceleration_list = []\n",
        "\n",
        "\n",
        "verbose = True\n",
        "print_every = int(1/delta_time) # print info periodically\n",
        "count = 0\n",
        "while True:\n",
        "  # Below you have your friend the kinematic equation for position vs time\n",
        "  # The distance is updated every time this code runs (so every second)\n",
        "  distance = distance + velocity * delta_time + (1/2) * acceleration_when_on * delta_time**2\n",
        "\n",
        "  # This will check whether the velocity of the treadmill corresponds to the velocity it should have\n",
        "  # according to your running program\n",
        "  # It also gives you what that velocity should be\n",
        "  check_correct, velocity_should_be = check_correct_speed(distance, velocity, position_list_m, velocity_list_m)\n",
        "\n",
        "  # If the velocity is correct, then nothing happens, the velocity is maintained\n",
        "  # If the velocity is incorrect, then it turns on the acceleration, so the velocity increases\n",
        "  acceleration = 0 if check_correct else acceleration_when_on\n",
        "\n",
        "  # Below you have your friend the kinematic equation for velocity vs time\n",
        "  # Although if put it in an if/else statement so that I can give it the velocity it should be\n",
        "  # This helps avoid the accumulation of small errors, so it is a bit of a trick\n",
        "  velocity = velocity + acceleration * delta_time if not check_correct else velocity_should_be\n",
        "\n",
        "  # The line below will check if the distance has reached 10,000 meters (a 10K)\n",
        "  # If yes, break the while loop, Jorginho is done; if no, just continue for 1 more second\n",
        "  if distance > 10000:\n",
        "    print('| time (seconds):', int(time), '| distance (meters):', int(distance), '| velocity (m/s):', velocity, '| acceleration (m/s^2):', acceleration, '|')\n",
        "    break\n",
        "\n",
        "  # This prints out time, distance, velocity, and acceleration for each second\n",
        "  if 0 == count % print_every and verbose is True:\n",
        "    print('| time (seconds):', int(time), '| distance (meters):', int(distance), '| velocity (m/s):', velocity, '| acceleration (m/s^2):', acceleration, '|')\n",
        "\n",
        "  # This updates the time so that in the next iteration the time has advanced by 1 second\n",
        "  time = time + delta_time\n",
        "  count = count + 1\n",
        "\n",
        "  # This is just so that we can put the data in an easy to manipulate format\n",
        "  actual_time_list.append(time)\n",
        "  actual_distance_list.append(distance)\n",
        "  actual_velocity_list.append(velocity)\n",
        "  actual_acceleration_list.append(acceleration)\n",
        "\n",
        "# Gives last bit of information, the time it took Jorginho to actually run the 10k given you program\n",
        "# and the limitations of the treadmill\n",
        "print()\n",
        "print('Total time was:', time, 'seconds')\n",
        "print('Total time was:', int(time/60), 'minutes and', np.round((time/60 - int(time/60)) * 60), 'seconds')"
      ],
      "metadata": {
        "id": "Fg95VHmyjU8k"
      },
      "execution_count": null,
      "outputs": []
    },
    {
      "cell_type": "code",
      "source": [
        "# Prettyfy\n",
        "df_dict = {}\n",
        "df_dict['distance'] = pd.Series(actual_distance_list, index=actual_time_list)\n",
        "df_dict['velocity'] = pd.Series(actual_velocity_list, index=actual_time_list)\n",
        "df_dict['acceleration'] = pd.Series(actual_acceleration_list, index=actual_time_list)\n",
        "df = pd.DataFrame(df_dict)"
      ],
      "metadata": {
        "id": "FQ0diVIRCsKp"
      },
      "execution_count": 5,
      "outputs": []
    },
    {
      "cell_type": "code",
      "source": [
        "# Plot distance vs time\n",
        "df['distance'].plot()"
      ],
      "metadata": {
        "id": "5HzA99EMGVne"
      },
      "execution_count": null,
      "outputs": []
    },
    {
      "cell_type": "code",
      "source": [
        "# Plot velocity vs time\n",
        "df['velocity'].plot()"
      ],
      "metadata": {
        "id": "yfHhWxqQtjnp"
      },
      "execution_count": null,
      "outputs": []
    },
    {
      "cell_type": "code",
      "source": [
        "# Plot acceleration vs time\n",
        "df['acceleration'].plot()"
      ],
      "metadata": {
        "id": "beFEhMdhtrdj"
      },
      "execution_count": null,
      "outputs": []
    },
    {
      "cell_type": "code",
      "source": [
        "# Plot velocity vs position\n",
        "df.plot(x='distance', y='velocity')"
      ],
      "metadata": {
        "id": "YaVILrk4uZyk"
      },
      "execution_count": null,
      "outputs": []
    },
    {
      "cell_type": "markdown",
      "source": [
        "# Problem 3.1"
      ],
      "metadata": {
        "id": "xeqyJJWtC7DK"
      }
    },
    {
      "cell_type": "markdown",
      "source": [
        "The running program for Jorginho for 10/8/2023 is the cell above marked as:\n",
        "\n",
        "```\n",
        "#####################\n",
        "## Running Routine ##\n",
        "#####################\n",
        "```\n",
        "and the dynamics simulation is in the cell marked above as:\n",
        "```\n",
        "#########################\n",
        "## Dynamics Simulation ##\n",
        "#########################\n",
        "```\n",
        "\n",
        "3.1.1 Change the value of the variable `acceleration_when_on' and run the dynamics simulation. Also evaluate the cells that produce the plots. What value of the acceleration allows you to get a time as close as possible to Jorginho's actual time of 51:21? Write down your answer below.\n",
        "\n",
        "\n",
        "\n",
        "\n",
        "\n",
        "\n",
        "\n",
        "\n",
        "\n"
      ],
      "metadata": {
        "id": "_B8wp6fNH01F"
      }
    },
    {
      "cell_type": "code",
      "source": [
        "## 3.1.1 What is the value of acceleration_on that produces the closes time to 51 minutes and 21 seconds?\n",
        "## The starting speed is 6.5 miles per hour\n",
        "##\n",
        "## Answers:"
      ],
      "metadata": {
        "id": "N-zRw4eq1ilv"
      },
      "execution_count": 10,
      "outputs": []
    },
    {
      "cell_type": "markdown",
      "source": [
        "3.1.2. Modify the running program so that it simulates Jorginho run for 10/1/2023, which he started at a speed of 6.4 mph.\n",
        "\n",
        "Change the value of the variable `acceleration_when_on' and run the dynamics simulation. Also evaluate the cells that produce the plots. What value of the acceleration allows you to get a time as close as possible to Jorginho's actual time of 52:04? Write down your answer below."
      ],
      "metadata": {
        "id": "QqzMBaggKjag"
      }
    },
    {
      "cell_type": "code",
      "source": [
        "## 3.1.2 What is the value of acceleration_on that produces the closes time to 52 minutes and 4 seconds?\n",
        "## The starting speed is 6.4 miles per hour\n",
        "##\n",
        "## Answers:"
      ],
      "metadata": {
        "id": "mDJgql68LMjJ"
      },
      "execution_count": 11,
      "outputs": []
    },
    {
      "cell_type": "markdown",
      "source": [
        "## Problem 3.2\n",
        "\n",
        "3.2.1. Analyze the plots produced using your simulation data. What are the assumptions in your Project 1 code that are not valid or completely correct?\n",
        "\n",
        "3.2.2. Have they been corrected or ameliorated in this version of the code?\n",
        "\n",
        "3.2.3 What can you do to improve your predictions further?"
      ],
      "metadata": {
        "id": "4pk8_ZbnLPQU"
      }
    },
    {
      "cell_type": "code",
      "source": [
        "## 3.2.1 What assumptions from Project 1 are questionable?\n",
        "##\n",
        "## Answers:"
      ],
      "metadata": {
        "id": "ND9DFoREMuu6"
      },
      "execution_count": 12,
      "outputs": []
    },
    {
      "cell_type": "code",
      "source": [
        "## 3.2.2 Did you correct them or ameliorated them in this version of the code?\n",
        "##\n",
        "## Answers:"
      ],
      "metadata": {
        "id": "hIt4SebWEJ82"
      },
      "execution_count": 13,
      "outputs": []
    },
    {
      "cell_type": "code",
      "source": [
        "## 3.2.3 Provide ideas to improve the simulation further\n",
        "##\n",
        "## Answers:"
      ],
      "metadata": {
        "id": "J5V07fG8EQ8p"
      },
      "execution_count": 14,
      "outputs": []
    },
    {
      "cell_type": "markdown",
      "source": [
        "## Problem 3.3\n",
        "\n",
        "The good thing about running faster is that you finish sooner. Look at the data generated by your simulation for Jorginho's 10/1/2023 run.\n",
        "\n",
        "3.3.1 Divide the total distance in 2 halves.  What was his time for the first half (distance-wise) and for the second one?\n",
        "\n",
        "3.3.2 Now divide the total time in 2 halves. What distance did he run during the first half (time-wise) and during the second one?"
      ],
      "metadata": {
        "id": "hSLWaOFnNt79"
      }
    },
    {
      "cell_type": "code",
      "source": [
        "## 3.3.1 What was Jorginho's time for the first half and second half of the run, distance-wise?\n",
        "##\n",
        "## Answers:"
      ],
      "metadata": {
        "id": "tVSc59OGOfxA"
      },
      "execution_count": 15,
      "outputs": []
    },
    {
      "cell_type": "code",
      "source": [
        "## 3.3.2 What was Jorginho's distance for the first half and second half of the run, time-wise?\n",
        "##\n",
        "## Answers:"
      ],
      "metadata": {
        "id": "dG1o-aXzFKDo"
      },
      "execution_count": 16,
      "outputs": []
    }
  ]
}